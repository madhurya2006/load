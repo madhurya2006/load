{
 "cells": [
  {
   "cell_type": "code",
   "execution_count": 1,
   "id": "f539ee84-0c43-49e0-aab3-435023265bed",
   "metadata": {},
   "outputs": [
    {
     "name": "stdout",
     "output_type": "stream",
     "text": [
      "   S.no First Name  Gender Login time  Salary  Bonus(%)   Team Department  \\\n",
      "0     1    santosh    male       9:00   50000        10  team1         HR   \n",
      "1     2     chitra  female       8:00   40000        15  team1         HR   \n",
      "2     3     sheela  female       8:30   35000         5  team1         HR   \n",
      "3     4     monish    male       8:15   39000         8  team1         HR   \n",
      "4     5       raja    male       8:45   45000        16  team1         HR   \n",
      "5     6    monisha  female       9:00   75000        10  team2       tech   \n",
      "6     7       viji  female       9:15   60000         5  team2       tech   \n",
      "7     8       rose  female       9:10   50000        10  team2       tech   \n",
      "8     9     sriram    male       8:50   45000         6  team2       tech   \n",
      "9    10    shalini  female       8:35   70000         8  team2       tech   \n",
      "\n",
      "   Designation  \n",
      "0    Team head  \n",
      "1       member  \n",
      "2  coordinator  \n",
      "3       member  \n",
      "4  coordinator  \n",
      "5         head  \n",
      "6       member  \n",
      "7       member  \n",
      "8       member  \n",
      "9       member  \n"
     ]
    }
   ],
   "source": [
    "import pandas as pd \n",
    "d=pd.read_csv(\"salary spreadsheet - Sheet1.csv\")\n",
    "print(d)"
   ]
  },
  {
   "cell_type": "code",
   "execution_count": 3,
   "id": "eeaf3f44-5ad8-4a8a-a7cc-3af088b77272",
   "metadata": {},
   "outputs": [
    {
     "name": "stdout",
     "output_type": "stream",
     "text": [
      "columns Index(['S.no', 'First Name', 'Gender', 'Login time', 'Salary', 'Bonus(%)',\n",
      "       'Team', 'Department', 'Designation'],\n",
      "      dtype='object')\n",
      "(10, 9)\n"
     ]
    }
   ],
   "source": [
    "df=pd.DataFrame(d)\n",
    "print(\"columns\",df.columns)\n",
    "print(df.shape)"
   ]
  },
  {
   "cell_type": "code",
   "execution_count": 7,
   "id": "9718c409-e3c2-44ec-91e5-5dd5db87eb93",
   "metadata": {},
   "outputs": [
    {
     "name": "stdout",
     "output_type": "stream",
     "text": [
      "Department 0      HR\n",
      "1      HR\n",
      "2      HR\n",
      "3      HR\n",
      "4      HR\n",
      "5    tech\n",
      "6    tech\n",
      "7    tech\n",
      "8    tech\n",
      "9    tech\n",
      "Name: Department, dtype: object\n"
     ]
    }
   ],
   "source": [
    "print(\"Department\",df[\"Department\"])"
   ]
  },
  {
   "cell_type": "code",
   "execution_count": 9,
   "id": "51f86a9e-1296-483a-84ae-91464f629655",
   "metadata": {},
   "outputs": [
    {
     "name": "stdout",
     "output_type": "stream",
     "text": [
      "   S.no First Name  Gender Login time  Salary  Bonus(%)   Team Department  \\\n",
      "5     6    monisha  female       9:00   75000        10  team2       tech   \n",
      "6     7       viji  female       9:15   60000         5  team2       tech   \n",
      "7     8       rose  female       9:10   50000        10  team2       tech   \n",
      "8     9     sriram    male       8:50   45000         6  team2       tech   \n",
      "\n",
      "  Designation  \n",
      "5        head  \n",
      "6      member  \n",
      "7      member  \n",
      "8      member  \n"
     ]
    }
   ],
   "source": [
    "print(df[5:9])"
   ]
  },
  {
   "cell_type": "code",
   "execution_count": 11,
   "id": "76805429-6cc7-4d99-b08b-7e4452effc86",
   "metadata": {},
   "outputs": [
    {
     "name": "stdout",
     "output_type": "stream",
     "text": [
      "Particular person details S.no                     3\n",
      "First Name          sheela\n",
      "Gender              female\n",
      "Login time            8:30\n",
      "Salary               35000\n",
      "Bonus(%)                 5\n",
      "Team                 team1\n",
      "Department              HR\n",
      "Designation    coordinator\n",
      "Name: 2, dtype: object\n"
     ]
    }
   ],
   "source": [
    "print(\"Particular person details\",df.loc[2])"
   ]
  },
  {
   "cell_type": "code",
   "execution_count": 13,
   "id": "491aee25-9786-4676-8769-5b7cec3650b4",
   "metadata": {},
   "outputs": [
    {
     "name": "stdout",
     "output_type": "stream",
     "text": [
      "   S.no First Name  Gender Login time  Salary  Bonus(%)   Team Department  \\\n",
      "5     6    monisha  female       9:00   75000        10  team2       tech   \n",
      "\n",
      "  Designation  \n",
      "5        head  \n"
     ]
    }
   ],
   "source": [
    "print(d.loc[d['Salary']==75000])"
   ]
  },
  {
   "cell_type": "code",
   "execution_count": 15,
   "id": "620df840-9768-4b7e-b359-9a83ad977143",
   "metadata": {},
   "outputs": [
    {
     "name": "stdout",
     "output_type": "stream",
     "text": [
      "0    50.050050\n",
      "1    40.040040\n",
      "2    35.035035\n",
      "3    39.039039\n",
      "4    45.045045\n",
      "5    75.075075\n",
      "6    60.060060\n",
      "7    50.050050\n",
      "8    45.045045\n",
      "9    70.070070\n",
      "Name: Salary, dtype: float64\n"
     ]
    }
   ],
   "source": [
    "df=d['Salary']/999\n",
    "print(df)"
   ]
  },
  {
   "cell_type": "code",
   "execution_count": null,
   "id": "fcb09960-c4ee-4445-802f-9e711da15a28",
   "metadata": {},
   "outputs": [],
   "source": []
  }
 ],
 "metadata": {
  "kernelspec": {
   "display_name": "Python [conda env:base] *",
   "language": "python",
   "name": "conda-base-py"
  },
  "language_info": {
   "codemirror_mode": {
    "name": "ipython",
    "version": 3
   },
   "file_extension": ".py",
   "mimetype": "text/x-python",
   "name": "python",
   "nbconvert_exporter": "python",
   "pygments_lexer": "ipython3",
   "version": "3.12.7"
  }
 },
 "nbformat": 4,
 "nbformat_minor": 5
}
