{
 "cells": [
  {
   "cell_type": "code",
   "execution_count": 3,
   "id": "70c33122-57a7-47d2-ab9a-f906ed1eb72e",
   "metadata": {},
   "outputs": [
    {
     "name": "stdout",
     "output_type": "stream",
     "text": [
      "   S.no First Name  Gender Login time  Salary  Bonus(%)   Team Department  \\\n",
      "0     1    santosh    male       9:00   50000        10  team1         HR   \n",
      "1     2     chitra  female       8:00   40000        15  team1         HR   \n",
      "2     3     sheela  female       8:30   35000         5  team1         HR   \n",
      "3     4     monish    male       8:15   39000         8  team1         HR   \n",
      "4     5       raja    male       8:45   45000        16  team1         HR   \n",
      "5     6    monisha  female       9:00   75000        10  team2       tech   \n",
      "6     7       viji  female       9:15   60000         5  team2       tech   \n",
      "7     8       rose  female       9:10   50000        10  team2       tech   \n",
      "8     9     sriram    male       8:50   45000         6  team2       tech   \n",
      "9    10    shalini  female       8:35   70000         8  team2       tech   \n",
      "\n",
      "   Designation  \n",
      "0    Team head  \n",
      "1       member  \n",
      "2  coordinator  \n",
      "3       member  \n",
      "4  coordinator  \n",
      "5         head  \n",
      "6       member  \n",
      "7       member  \n",
      "8       member  \n",
      "9       member  \n"
     ]
    }
   ],
   "source": [
    "import pandas as pd\n",
    "d=pd.read_csv(\"employees spreadsheet - Sheet2 .csv\")\n",
    "print(d)"
   ]
  },
  {
   "cell_type": "code",
   "execution_count": 4,
   "id": "f5adeb13-51c9-4a6b-9581-df2be92fbf93",
   "metadata": {},
   "outputs": [
    {
     "name": "stdout",
     "output_type": "stream",
     "text": [
      "columns Index(['S.no', 'First Name', 'Gender', 'Login time', 'Salary', 'Bonus(%)',\n",
      "       'Team', 'Department', 'Designation'],\n",
      "      dtype='object')\n",
      "(10, 9)\n"
     ]
    }
   ],
   "source": [
    "df=pd.DataFrame(d)\n",
    "print(\"columns\",df.columns)\n",
    "print(df.shape)"
   ]
  },
  {
   "cell_type": "code",
   "execution_count": 6,
   "id": "83a5fbdb-f9a2-4ab3-b04f-644c29b38110",
   "metadata": {},
   "outputs": [
    {
     "name": "stdout",
     "output_type": "stream",
     "text": [
      "Department 0      HR\n",
      "1      HR\n",
      "2      HR\n",
      "3      HR\n",
      "4      HR\n",
      "5    tech\n",
      "6    tech\n",
      "7    tech\n",
      "8    tech\n",
      "9    tech\n",
      "Name: Department, dtype: object\n"
     ]
    }
   ],
   "source": [
    "print(\"Department\",df[\"Department\"])"
   ]
  },
  {
   "cell_type": "code",
   "execution_count": 7,
   "id": "90ba6efe-5438-4b71-a10f-52727300da15",
   "metadata": {},
   "outputs": [
    {
     "name": "stdout",
     "output_type": "stream",
     "text": [
      "   S.no First Name  Gender Login time  Salary  Bonus(%)   Team Department  \\\n",
      "5     6    monisha  female       9:00   75000        10  team2       tech   \n",
      "6     7       viji  female       9:15   60000         5  team2       tech   \n",
      "7     8       rose  female       9:10   50000        10  team2       tech   \n",
      "8     9     sriram    male       8:50   45000         6  team2       tech   \n",
      "\n",
      "  Designation  \n",
      "5        head  \n",
      "6      member  \n",
      "7      member  \n",
      "8      member  \n"
     ]
    }
   ],
   "source": [
    "print(df[5:9])"
   ]
  },
  {
   "cell_type": "code",
   "execution_count": 8,
   "id": "b373a74a-5016-431c-bcc4-1708aa84d4c5",
   "metadata": {},
   "outputs": [
    {
     "name": "stdout",
     "output_type": "stream",
     "text": [
      "Particular person details S.no                     3\n",
      "First Name          sheela\n",
      "Gender              female\n",
      "Login time            8:30\n",
      "Salary               35000\n",
      "Bonus(%)                 5\n",
      "Team                 team1\n",
      "Department              HR\n",
      "Designation    coordinator\n",
      "Name: 2, dtype: object\n"
     ]
    }
   ],
   "source": [
    "print(\"Particular person details\",df.loc[2])"
   ]
  },
  {
   "cell_type": "code",
   "execution_count": 9,
   "id": "ce69145b-2b1e-4423-b005-c5697c6eac47",
   "metadata": {},
   "outputs": [
    {
     "ename": "KeyError",
     "evalue": "'salary'",
     "output_type": "error",
     "traceback": [
      "\u001b[0;31m---------------------------------------------------------------------------\u001b[0m",
      "\u001b[0;31mKeyError\u001b[0m                                  Traceback (most recent call last)",
      "File \u001b[0;32m/Applications/anacon/anaconda3/lib/python3.12/site-packages/pandas/core/indexes/base.py:3805\u001b[0m, in \u001b[0;36mIndex.get_loc\u001b[0;34m(self, key)\u001b[0m\n\u001b[1;32m   3804\u001b[0m \u001b[38;5;28;01mtry\u001b[39;00m:\n\u001b[0;32m-> 3805\u001b[0m     \u001b[38;5;28;01mreturn\u001b[39;00m \u001b[38;5;28mself\u001b[39m\u001b[38;5;241m.\u001b[39m_engine\u001b[38;5;241m.\u001b[39mget_loc(casted_key)\n\u001b[1;32m   3806\u001b[0m \u001b[38;5;28;01mexcept\u001b[39;00m \u001b[38;5;167;01mKeyError\u001b[39;00m \u001b[38;5;28;01mas\u001b[39;00m err:\n",
      "File \u001b[0;32mindex.pyx:167\u001b[0m, in \u001b[0;36mpandas._libs.index.IndexEngine.get_loc\u001b[0;34m()\u001b[0m\n",
      "File \u001b[0;32mindex.pyx:196\u001b[0m, in \u001b[0;36mpandas._libs.index.IndexEngine.get_loc\u001b[0;34m()\u001b[0m\n",
      "File \u001b[0;32mpandas/_libs/hashtable_class_helper.pxi:7081\u001b[0m, in \u001b[0;36mpandas._libs.hashtable.PyObjectHashTable.get_item\u001b[0;34m()\u001b[0m\n",
      "File \u001b[0;32mpandas/_libs/hashtable_class_helper.pxi:7089\u001b[0m, in \u001b[0;36mpandas._libs.hashtable.PyObjectHashTable.get_item\u001b[0;34m()\u001b[0m\n",
      "\u001b[0;31mKeyError\u001b[0m: 'salary'",
      "\nThe above exception was the direct cause of the following exception:\n",
      "\u001b[0;31mKeyError\u001b[0m                                  Traceback (most recent call last)",
      "Cell \u001b[0;32mIn[9], line 1\u001b[0m\n\u001b[0;32m----> 1\u001b[0m \u001b[38;5;28mprint\u001b[39m(d\u001b[38;5;241m.\u001b[39mloc[d[\u001b[38;5;124m'\u001b[39m\u001b[38;5;124msalary\u001b[39m\u001b[38;5;124m'\u001b[39m]\u001b[38;5;241m==\u001b[39m\u001b[38;5;241m75000\u001b[39m])\n",
      "File \u001b[0;32m/Applications/anacon/anaconda3/lib/python3.12/site-packages/pandas/core/frame.py:4102\u001b[0m, in \u001b[0;36mDataFrame.__getitem__\u001b[0;34m(self, key)\u001b[0m\n\u001b[1;32m   4100\u001b[0m \u001b[38;5;28;01mif\u001b[39;00m \u001b[38;5;28mself\u001b[39m\u001b[38;5;241m.\u001b[39mcolumns\u001b[38;5;241m.\u001b[39mnlevels \u001b[38;5;241m>\u001b[39m \u001b[38;5;241m1\u001b[39m:\n\u001b[1;32m   4101\u001b[0m     \u001b[38;5;28;01mreturn\u001b[39;00m \u001b[38;5;28mself\u001b[39m\u001b[38;5;241m.\u001b[39m_getitem_multilevel(key)\n\u001b[0;32m-> 4102\u001b[0m indexer \u001b[38;5;241m=\u001b[39m \u001b[38;5;28mself\u001b[39m\u001b[38;5;241m.\u001b[39mcolumns\u001b[38;5;241m.\u001b[39mget_loc(key)\n\u001b[1;32m   4103\u001b[0m \u001b[38;5;28;01mif\u001b[39;00m is_integer(indexer):\n\u001b[1;32m   4104\u001b[0m     indexer \u001b[38;5;241m=\u001b[39m [indexer]\n",
      "File \u001b[0;32m/Applications/anacon/anaconda3/lib/python3.12/site-packages/pandas/core/indexes/base.py:3812\u001b[0m, in \u001b[0;36mIndex.get_loc\u001b[0;34m(self, key)\u001b[0m\n\u001b[1;32m   3807\u001b[0m     \u001b[38;5;28;01mif\u001b[39;00m \u001b[38;5;28misinstance\u001b[39m(casted_key, \u001b[38;5;28mslice\u001b[39m) \u001b[38;5;129;01mor\u001b[39;00m (\n\u001b[1;32m   3808\u001b[0m         \u001b[38;5;28misinstance\u001b[39m(casted_key, abc\u001b[38;5;241m.\u001b[39mIterable)\n\u001b[1;32m   3809\u001b[0m         \u001b[38;5;129;01mand\u001b[39;00m \u001b[38;5;28many\u001b[39m(\u001b[38;5;28misinstance\u001b[39m(x, \u001b[38;5;28mslice\u001b[39m) \u001b[38;5;28;01mfor\u001b[39;00m x \u001b[38;5;129;01min\u001b[39;00m casted_key)\n\u001b[1;32m   3810\u001b[0m     ):\n\u001b[1;32m   3811\u001b[0m         \u001b[38;5;28;01mraise\u001b[39;00m InvalidIndexError(key)\n\u001b[0;32m-> 3812\u001b[0m     \u001b[38;5;28;01mraise\u001b[39;00m \u001b[38;5;167;01mKeyError\u001b[39;00m(key) \u001b[38;5;28;01mfrom\u001b[39;00m \u001b[38;5;21;01merr\u001b[39;00m\n\u001b[1;32m   3813\u001b[0m \u001b[38;5;28;01mexcept\u001b[39;00m \u001b[38;5;167;01mTypeError\u001b[39;00m:\n\u001b[1;32m   3814\u001b[0m     \u001b[38;5;66;03m# If we have a listlike key, _check_indexing_error will raise\u001b[39;00m\n\u001b[1;32m   3815\u001b[0m     \u001b[38;5;66;03m#  InvalidIndexError. Otherwise we fall through and re-raise\u001b[39;00m\n\u001b[1;32m   3816\u001b[0m     \u001b[38;5;66;03m#  the TypeError.\u001b[39;00m\n\u001b[1;32m   3817\u001b[0m     \u001b[38;5;28mself\u001b[39m\u001b[38;5;241m.\u001b[39m_check_indexing_error(key)\n",
      "\u001b[0;31mKeyError\u001b[0m: 'salary'"
     ]
    }
   ],
   "source": [
    "print(d.loc[d['Salary']==75000])"
   ]
  },
  {
   "cell_type": "code",
   "execution_count": null,
   "id": "db6023cc-3254-4019-b028-2b372c5d0e06",
   "metadata": {},
   "outputs": [],
   "source": []
  }
 ],
 "metadata": {
  "kernelspec": {
   "display_name": "Python 3 (ipykernel)",
   "language": "python",
   "name": "python3"
  },
  "language_info": {
   "codemirror_mode": {
    "name": "ipython",
    "version": 3
   },
   "file_extension": ".py",
   "mimetype": "text/x-python",
   "name": "python",
   "nbconvert_exporter": "python",
   "pygments_lexer": "ipython3",
   "version": "3.12.7"
  }
 },
 "nbformat": 4,
 "nbformat_minor": 5
}
